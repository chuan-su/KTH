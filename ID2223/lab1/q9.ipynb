{
 "cells": [
  {
   "cell_type": "markdown",
   "metadata": {},
   "source": [
    "---\n",
    "# 9. An End-to-End Classification Test\n",
    "As the last step, you are given a dataset called `data/ccdefault.csv`. The dataset represents default of credit card clients. It has 30,000 cases and 24 different attributes. More details about the dataset is available at `data/ccdefault.txt`. In this task you should make three models, compare their results and conclude the ideal solution. Here are the suggested steps:\n",
    "1. Load the data.\n",
    "2. Carry out some exploratory analyses (e.g., how various features and the target variable are distributed).\n",
    "3. Train a model to predict the target variable (risk of `default`).\n",
    "  - Employ three different models (logistic regression, decision tree, and random forest).\n",
    "  - Compare the models' performances (e.g., AUC).\n",
    "  - Defend your choice of best model (e.g., what are the strength and weaknesses of each of these models?).\n",
    "4. What more would you do with this data? Anything to help you devise a better solution?"
   ]
  },
  {
   "cell_type": "code",
   "execution_count": 54,
   "metadata": {},
   "outputs": [
    {
     "name": "stdout",
     "output_type": "stream",
     "text": [
      "root\n",
      " |-- ID: integer (nullable = true)\n",
      " |-- LIMIT_BAL: integer (nullable = true)\n",
      " |-- SEX: integer (nullable = true)\n",
      " |-- EDUCATION: integer (nullable = true)\n",
      " |-- MARRIAGE: integer (nullable = true)\n",
      " |-- AGE: integer (nullable = true)\n",
      " |-- PAY_0: integer (nullable = true)\n",
      " |-- PAY_2: integer (nullable = true)\n",
      " |-- PAY_3: integer (nullable = true)\n",
      " |-- PAY_4: integer (nullable = true)\n",
      " |-- PAY_5: integer (nullable = true)\n",
      " |-- PAY_6: integer (nullable = true)\n",
      " |-- BILL_AMT1: integer (nullable = true)\n",
      " |-- BILL_AMT2: integer (nullable = true)\n",
      " |-- BILL_AMT3: integer (nullable = true)\n",
      " |-- BILL_AMT4: integer (nullable = true)\n",
      " |-- BILL_AMT5: integer (nullable = true)\n",
      " |-- BILL_AMT6: integer (nullable = true)\n",
      " |-- PAY_AMT1: integer (nullable = true)\n",
      " |-- PAY_AMT2: integer (nullable = true)\n",
      " |-- PAY_AMT3: integer (nullable = true)\n",
      " |-- PAY_AMT4: integer (nullable = true)\n",
      " |-- PAY_AMT5: integer (nullable = true)\n",
      " |-- PAY_AMT6: integer (nullable = true)\n",
      " |-- DEFAULT: integer (nullable = true)\n",
      "\n"
     ]
    }
   ],
   "source": [
    "import pyspark\n",
    "from pyspark.sql import SparkSession\n",
    "spark = SparkSession.builder.appName('lab1').getOrCreate()\n",
    "df = spark.read.csv('data/ccdefault.csv', header=True, inferSchema=True)\n",
    "df.printSchema()"
   ]
  },
  {
   "cell_type": "code",
   "execution_count": 55,
   "metadata": {},
   "outputs": [
    {
     "name": "stdout",
     "output_type": "stream",
     "text": [
      "30000\n"
     ]
    },
    {
     "data": {
      "text/plain": [
       "<matplotlib.axes._subplots.AxesSubplot at 0x7f8fc3168080>"
      ]
     },
     "execution_count": 55,
     "metadata": {},
     "output_type": "execute_result"
    },
    {
     "data": {
      "image/png": "[encoded data removed]",
      "text/plain": [
       "<Figure size 864x720 with 1 Axes>"
      ]
     },
     "metadata": {
      "needs_background": "light"
     },
     "output_type": "display_data"
    }
   ],
   "source": [
    "import matplotlib.pyplot as plt\n",
    "import seaborn as sns\n",
    "%matplotlib inline\n",
    "df_pd = df.toPandas()\n",
    "print(len(df_pd))\n",
    "plt.figure(figsize=(12,10))\n",
    "sns.countplot(x='DEFAULT', data=df_pd, order=df_pd['DEFAULT'].value_counts().index)"
   ]
  },
  {
   "cell_type": "code",
   "execution_count": 25,
   "metadata": {},
   "outputs": [
    {
     "name": "stdout",
     "output_type": "stream",
     "text": [
      "missing ID : 0\n",
      "missing LIMIT_BAL : 0\n",
      "missing SEX : 0\n",
      "missing EDUCATION : 0\n",
      "missing MARRIAGE : 0\n",
      "missing AGE : 0\n",
      "missing PAY_0 : 0\n",
      "missing PAY_2 : 0\n",
      "missing PAY_3 : 0\n",
      "missing PAY_4 : 0\n",
      "missing PAY_5 : 0\n",
      "missing PAY_6 : 0\n",
      "missing BILL_AMT1 : 0\n",
      "missing BILL_AMT2 : 0\n",
      "missing BILL_AMT3 : 0\n",
      "missing BILL_AMT4 : 0\n",
      "missing BILL_AMT5 : 0\n",
      "missing BILL_AMT6 : 0\n",
      "missing PAY_AMT1 : 0\n",
      "missing PAY_AMT2 : 0\n",
      "missing PAY_AMT3 : 0\n",
      "missing PAY_AMT4 : 0\n",
      "missing PAY_AMT5 : 0\n",
      "missing PAY_AMT6 : 0\n",
      "missing DEFAULT : 0\n"
     ]
    }
   ],
   "source": [
    "for c in df.columns:\n",
    "    count = df.filter(df[c].isNull()).count()\n",
    "    print(f\"missing {c} : {count}\")        "
   ]
  },
  {
   "cell_type": "code",
   "execution_count": 49,
   "metadata": {},
   "outputs": [
    {
     "name": "stdout",
     "output_type": "stream",
     "text": [
      "['LIMIT_BAL', 'SEX', 'EDUCATION', 'MARRIAGE', 'AGE', 'PAY_0', 'PAY_2', 'PAY_3', 'PAY_4', 'PAY_5', 'PAY_6', 'BILL_AMT1', 'BILL_AMT2', 'BILL_AMT3', 'BILL_AMT4', 'BILL_AMT5', 'BILL_AMT6', 'PAY_AMT1', 'PAY_AMT2', 'PAY_AMT3', 'PAY_AMT4', 'PAY_AMT5', 'PAY_AMT6']\n"
     ]
    },
    {
     "data": {
      "text/plain": [
       "array([ 1.00000000e+00,  2.47552351e-02, -2.19160698e-01, -1.08139410e-01,\n",
       "        1.44712798e-01, -2.71214332e-01, -2.96382101e-01, -2.86122954e-01,\n",
       "       -2.67460010e-01, -2.49411395e-01, -2.35195399e-01,  2.85429865e-01,\n",
       "        2.78314364e-01,  2.83235784e-01,  2.93987624e-01,  2.95562338e-01,\n",
       "        2.90388951e-01,  1.95235915e-01,  1.78407954e-01,  2.10166748e-01,\n",
       "        2.03242410e-01,  2.17202432e-01,  2.19595369e-01,  2.47552351e-02,\n",
       "        1.00000000e+00,  1.42319362e-02, -3.13888401e-02, -9.08736465e-02,\n",
       "       -5.76428789e-02, -7.07710032e-02, -6.60960564e-02, -6.01732384e-02,\n",
       "       -5.50638850e-02, -4.40077882e-02, -3.36418696e-02, -3.11834722e-02,\n",
       "       -2.45633117e-02, -2.18796791e-02, -1.70051802e-02, -1.67331263e-02,\n",
       "       -2.42454563e-04, -1.39090966e-03, -8.59662491e-03, -2.22897151e-03,\n",
       "       -1.66716180e-03, -2.76602228e-03, -2.19160698e-01,  1.42319362e-02,\n",
       "        1.00000000e+00, -1.43464340e-01,  1.75060661e-01,  1.05363998e-01,\n",
       "        1.21565552e-01,  1.14024903e-01,  1.08793456e-01,  9.75201606e-02,\n",
       "        8.23159864e-02,  2.35811807e-02,  1.87487708e-02,  1.30024007e-02,\n",
       "       -4.51345309e-04, -7.56650305e-03, -9.09895470e-03, -3.74561839e-02,\n",
       "       -3.00381866e-02, -3.99431409e-02, -3.82181661e-02, -4.03584549e-02,\n",
       "       -3.71999031e-02, -1.08139410e-01, -3.13888401e-02, -1.43464340e-01,\n",
       "        1.00000000e+00, -4.14169918e-01,  1.99171905e-02,  2.41990673e-02,\n",
       "        3.26876733e-02,  3.31215489e-02,  3.56291704e-02,  3.43447660e-02,\n",
       "       -2.34718019e-02, -2.16017799e-02, -2.49094510e-02, -2.33438469e-02,\n",
       "       -2.53933980e-02, -2.12068248e-02, -5.97899978e-03, -8.09270284e-03,\n",
       "       -3.54135195e-03, -1.26592789e-02, -1.20475692e-03, -6.64094193e-03,\n",
       "        1.44712798e-01, -9.08736465e-02,  1.75060661e-01, -4.14169918e-01,\n",
       "        1.00000000e+00, -3.94473762e-02, -5.01477762e-02, -5.30484373e-02,\n",
       "       -4.97216740e-02, -5.38259764e-02, -4.87734264e-02,  5.62385333e-02,\n",
       "        5.42830744e-02,  5.37097052e-02,  5.13530932e-02,  4.93450481e-02,\n",
       "        4.76126780e-02,  2.61466791e-02,  2.17848934e-02,  2.92473530e-02,\n",
       "        2.13790056e-02,  2.28499736e-02,  1.94781530e-02, -2.71214332e-01,\n",
       "       -5.76428789e-02,  1.05363998e-01,  1.99171905e-02, -3.94473762e-02,\n",
       "        1.00000000e+00,  6.72164383e-01,  5.74245093e-01,  5.38840627e-01,\n",
       "        5.09426064e-01,  4.74553086e-01,  1.87068431e-01,  1.89859109e-01,\n",
       "        1.79785282e-01,  1.79124771e-01,  1.80634625e-01,  1.76980296e-01,\n",
       "       -7.92687112e-02, -7.01005212e-02, -7.05608377e-02, -6.40048889e-02,\n",
       "       -5.81898859e-02, -5.86732144e-02, -2.96382101e-01, -7.07710032e-02,\n",
       "        1.21565552e-01,  2.41990673e-02, -5.01477762e-02,  6.72164383e-01,\n",
       "        1.00000000e+00,  7.66551683e-01,  6.62067131e-01,  6.22780245e-01,\n",
       "        5.75500862e-01,  2.34886527e-01,  2.35256943e-01,  2.24145855e-01,\n",
       "        2.22236512e-01,  2.21348373e-01,  2.19403351e-01, -8.07007098e-02,\n",
       "       -5.89899990e-02, -5.59012313e-02, -4.68584115e-02, -3.70930798e-02,\n",
       "       -3.65003755e-02, -2.86122954e-01, -6.60960564e-02,  1.14024903e-01,\n",
       "        3.26876733e-02, -5.30484373e-02,  5.74245093e-01,  7.66551683e-01,\n",
       "        1.00000000e+00,  7.77358873e-01,  6.86774511e-01,  6.32683593e-01,\n",
       "        2.08472889e-01,  2.37294534e-01,  2.27494327e-01,  2.27202281e-01,\n",
       "        2.25145193e-01,  2.22326737e-01,  1.29481433e-03, -6.67933957e-02,\n",
       "       -5.33107796e-02, -4.60665339e-02, -3.58630706e-02, -3.58610837e-02,\n",
       "       -2.67460010e-01, -6.01732384e-02,  1.08793456e-01,  3.31215489e-02,\n",
       "       -4.97216740e-02,  5.38840627e-01,  6.62067131e-01,  7.77358873e-01,\n",
       "        1.00000000e+00,  8.19835311e-01,  7.16449482e-01,  2.02812069e-01,\n",
       "        2.25816316e-01,  2.44983138e-01,  2.45917204e-01,  2.42902058e-01,\n",
       "        2.39154130e-01, -9.36213575e-03, -1.94365661e-03, -6.92352036e-02,\n",
       "       -4.34614297e-02, -3.35895347e-02, -2.65650880e-02, -2.49411395e-01,\n",
       "       -5.50638850e-02,  9.75201606e-02,  3.56291704e-02, -5.38259764e-02,\n",
       "        5.09426064e-01,  6.22780245e-01,  6.86774511e-01,  8.19835311e-01,\n",
       "        1.00000000e+00,  8.16900160e-01,  2.06683964e-01,  2.26913267e-01,\n",
       "        2.43334681e-01,  2.71915007e-01,  2.69783090e-01,  2.62509252e-01,\n",
       "       -6.08875714e-03, -3.19133231e-03,  9.06236268e-03, -5.82988653e-02,\n",
       "       -3.33365042e-02, -2.30274510e-02, -2.35195399e-01, -4.40077882e-02,\n",
       "        8.23159864e-02,  3.43447660e-02, -4.87734264e-02,  4.74553086e-01,\n",
       "        5.75500862e-01,  6.32683593e-01,  7.16449482e-01,  8.16900160e-01,\n",
       "        1.00000000e+00,  2.07373131e-01,  2.26924431e-01,  2.41181146e-01,\n",
       "        2.66356069e-01,  2.90893745e-01,  2.85090991e-01, -1.49628904e-03,\n",
       "       -5.22326814e-03,  5.83377419e-03,  1.90178633e-02, -4.64336411e-02,\n",
       "       -2.52993385e-02,  2.85429865e-01, -3.36418696e-02,  2.35811807e-02,\n",
       "       -2.34718019e-02,  5.62385333e-02,  1.87068431e-01,  2.34886527e-01,\n",
       "        2.08472889e-01,  2.02812069e-01,  2.06683964e-01,  2.07373131e-01,\n",
       "        1.00000000e+00,  9.51483673e-01,  8.92278529e-01,  8.60272189e-01,\n",
       "        8.29778606e-01,  8.02650189e-01,  1.40277278e-01,  9.93550350e-02,\n",
       "        1.56887138e-01,  1.58302533e-01,  1.67025712e-01,  1.79341122e-01,\n",
       "        2.78314364e-01, -3.11834722e-02,  1.87487708e-02, -2.16017799e-02,\n",
       "        5.42830744e-02,  1.89859109e-01,  2.35256943e-01,  2.37294534e-01,\n",
       "        2.25816316e-01,  2.26913267e-01,  2.26924431e-01,  9.51483673e-01,\n",
       "        1.00000000e+00,  9.28326259e-01,  8.92482291e-01,  8.59778307e-01,\n",
       "        8.31593559e-01,  2.80365357e-01,  1.00850878e-01,  1.50718194e-01,\n",
       "        1.47398104e-01,  1.57957412e-01,  1.74256166e-01,  2.83235784e-01,\n",
       "       -2.45633117e-02,  1.30024007e-02, -2.49094510e-02,  5.37097052e-02,\n",
       "        1.79785282e-01,  2.24145855e-01,  2.27494327e-01,  2.44983138e-01,\n",
       "        2.43334681e-01,  2.41181146e-01,  8.92278529e-01,  9.28326259e-01,\n",
       "        1.00000000e+00,  9.23969457e-01,  8.83909697e-01,  8.53320091e-01,\n",
       "        2.44335238e-01,  3.16935977e-01,  1.30011182e-01,  1.43404605e-01,\n",
       "        1.79712350e-01,  1.82325966e-01,  2.93987624e-01, -2.18796791e-02,\n",
       "       -4.51345309e-04, -2.33438469e-02,  5.13530932e-02,  1.79124771e-01,\n",
       "        2.22236512e-01,  2.27202281e-01,  2.45917204e-01,  2.71915007e-01,\n",
       "        2.66356069e-01,  8.60272189e-01,  8.92482291e-01,  9.23969457e-01,\n",
       "        1.00000000e+00,  9.40134404e-01,  9.00940955e-01,  2.33011852e-01,\n",
       "        2.07563729e-01,  3.00022529e-01,  1.30191408e-01,  1.60433038e-01,\n",
       "        1.77636994e-01,  2.95562338e-01, -1.70051802e-02, -7.56650305e-03,\n",
       "       -2.53933980e-02,  4.93450481e-02,  1.80634625e-01,  2.21348373e-01,\n",
       "        2.25145193e-01,  2.42902058e-01,  2.69783090e-01,  2.90893745e-01,\n",
       "        8.29778606e-01,  8.59778307e-01,  8.83909697e-01,  9.40134404e-01,\n",
       "        1.00000000e+00,  9.46196807e-01,  2.17030824e-01,  1.81246491e-01,\n",
       "        2.52304862e-01,  2.93118463e-01,  1.41574180e-01,  1.64184450e-01,\n",
       "        2.90388951e-01, -1.67331263e-02, -9.09895470e-03, -2.12068248e-02,\n",
       "        4.76126780e-02,  1.76980296e-01,  2.19403351e-01,  2.22326737e-01,\n",
       "        2.39154130e-01,  2.62509252e-01,  2.85090991e-01,  8.02650189e-01,\n",
       "        8.31593559e-01,  8.53320091e-01,  9.00940955e-01,  9.46196807e-01,\n",
       "        1.00000000e+00,  1.99965006e-01,  1.72662937e-01,  2.33769793e-01,\n",
       "        2.50236825e-01,  3.07728890e-01,  1.15494167e-01,  1.95235915e-01,\n",
       "       -2.42454563e-04, -3.74561839e-02, -5.97899978e-03,  2.61466791e-02,\n",
       "       -7.92687112e-02, -8.07007098e-02,  1.29481433e-03, -9.36213575e-03,\n",
       "       -6.08875714e-03, -1.49628904e-03,  1.40277278e-01,  2.80365357e-01,\n",
       "        2.44335238e-01,  2.33011852e-01,  2.17030824e-01,  1.99965006e-01,\n",
       "        1.00000000e+00,  2.85575529e-01,  2.52191139e-01,  1.99557931e-01,\n",
       "        1.48459275e-01,  1.85735255e-01,  1.78407954e-01, -1.39090966e-03,\n",
       "       -3.00381866e-02, -8.09270284e-03,  2.17848934e-02, -7.01005212e-02,\n",
       "       -5.89899990e-02, -6.67933957e-02, -1.94365661e-03, -3.19133231e-03,\n",
       "       -5.22326814e-03,  9.93550350e-02,  1.00850878e-01,  3.16935977e-01,\n",
       "        2.07563729e-01,  1.81246491e-01,  1.72662937e-01,  2.85575529e-01,\n",
       "        1.00000000e+00,  2.44770450e-01,  1.80106744e-01,  1.80907753e-01,\n",
       "        1.57633916e-01,  2.10166748e-01, -8.59662491e-03, -3.99431409e-02,\n",
       "       -3.54135195e-03,  2.92473530e-02, -7.05608377e-02, -5.59012313e-02,\n",
       "       -5.33107796e-02, -6.92352036e-02,  9.06236268e-03,  5.83377419e-03,\n",
       "        1.56887138e-01,  1.50718194e-01,  1.30011182e-01,  3.00022529e-01,\n",
       "        2.52304862e-01,  2.33769793e-01,  2.52191139e-01,  2.44770450e-01,\n",
       "        1.00000000e+00,  2.16325092e-01,  1.59213720e-01,  1.62740033e-01,\n",
       "        2.03242410e-01, -2.22897151e-03, -3.82181661e-02, -1.26592789e-02,\n",
       "        2.13790056e-02, -6.40048889e-02, -4.68584115e-02, -4.60665339e-02,\n",
       "       -4.34614297e-02, -5.82988653e-02,  1.90178633e-02,  1.58302533e-01,\n",
       "        1.47398104e-01,  1.43404605e-01,  1.30191408e-01,  2.93118463e-01,\n",
       "        2.50236825e-01,  1.99557931e-01,  1.80106744e-01,  2.16325092e-01,\n",
       "        1.00000000e+00,  1.51830436e-01,  1.57833916e-01,  2.17202432e-01,\n",
       "       -1.66716180e-03, -4.03584549e-02, -1.20475692e-03,  2.28499736e-02,\n",
       "       -5.81898859e-02, -3.70930798e-02, -3.58630706e-02, -3.35895347e-02,\n",
       "       -3.33365042e-02, -4.64336411e-02,  1.67025712e-01,  1.57957412e-01,\n",
       "        1.79712350e-01,  1.60433038e-01,  1.41574180e-01,  3.07728890e-01,\n",
       "        1.48459275e-01,  1.80907753e-01,  1.59213720e-01,  1.51830436e-01,\n",
       "        1.00000000e+00,  1.54895525e-01,  2.19595369e-01, -2.76602228e-03,\n",
       "       -3.71999031e-02, -6.64094193e-03,  1.94781530e-02, -5.86732144e-02,\n",
       "       -3.65003755e-02, -3.58610837e-02, -2.65650880e-02, -2.30274510e-02,\n",
       "       -2.52993385e-02,  1.79341122e-01,  1.74256166e-01,  1.82325966e-01,\n",
       "        1.77636994e-01,  1.64184450e-01,  1.15494167e-01,  1.85735255e-01,\n",
       "        1.57633916e-01,  1.62740033e-01,  1.57833916e-01,  1.54895525e-01,\n",
       "        1.00000000e+00])"
      ]
     },
     "execution_count": 49,
     "metadata": {},
     "output_type": "execute_result"
    }
   ],
   "source": [
    "from pyspark.ml.linalg import Vectors\n",
    "from pyspark.ml.feature import VectorAssembler\n",
    "from pyspark.ml.stat import Correlation\n",
    "import pandas as pd\n",
    "cols = [c for c in df.columns if c != 'DEFAULT' and c != 'ID']\n",
    "print(cols)\n",
    "assembler = VectorAssembler(inputCols=cols, outputCol='features')\n",
    "df_vector = assembler.transform(df).select('features'')\n",
    "\n",
    "# get correlation matrix\n",
    "matrix = Correlation.corr(df_vector, 'features')\n",
    "matrix.collect()[0][\"pearson({})\".format('features')].values"
   ]
  },
  {
   "cell_type": "markdown",
   "metadata": {},
   "source": [
    "### Training set and test set"
   ]
  },
  {
   "cell_type": "code",
   "execution_count": 127,
   "metadata": {},
   "outputs": [],
   "source": [
    "from pyspark.sql.functions import col\n",
    "from pyspark.ml.feature import StandardScaler\n",
    "\n",
    "cols = [c for c in df.columns if c != 'DEFAULT' and c != 'ID']\n",
    "\n",
    "assembler = VectorAssembler(inputCols=cols, outputCol='features')\n",
    "dataset = assembler.transform(df).select(col('ID'), col('features'), col(\"DEFAULT\").alias(\"label\"))\n",
    "\n",
    "scaler = StandardScaler(inputCol=\"features\", outputCol=\"scaledFeatures\",\n",
    "                        withStd=True, withMean=False)\n",
    "\n",
    "# Compute summary statistics by fitting the StandardScaler\n",
    "scalerModel = scaler.fit(dataset)\n",
    "\n",
    "# Normalize each feature to have unit standard deviation.\n",
    "scaledData = scalerModel.transform(dataset).select(col('ID'), col('features'), col('scaledFeatures'), col(\"label\"))\n",
    "\n",
    "(trainingSet, testSet) = scaledData.randomSplit([0.8, 0.2], seed=1234)"
   ]
  },
  {
   "cell_type": "markdown",
   "metadata": {},
   "source": [
    "### Binomial logistic regression"
   ]
  },
  {
   "cell_type": "code",
   "execution_count": 128,
   "metadata": {},
   "outputs": [
    {
     "data": {
      "image/png": "[encoded data removed]",
      "text/plain": [
       "<Figure size 432x288 with 1 Axes>"
      ]
     },
     "metadata": {
      "needs_background": "light"
     },
     "output_type": "display_data"
    },
    {
     "name": "stdout",
     "output_type": "stream",
     "text": [
      "Training set areaUnderROC: 0.7205604129307343\n"
     ]
    },
    {
     "data": {
      "image/png": "[encoded data removed]",
      "text/plain": [
       "<Figure size 432x288 with 1 Axes>"
      ]
     },
     "metadata": {
      "needs_background": "light"
     },
     "output_type": "display_data"
    },
    {
     "name": "stdout",
     "output_type": "stream",
     "text": [
      "+---+-----+----------+--------------------+--------------------+\n",
      "| ID|label|prediction|       rawPrediction|         probability|\n",
      "+---+-----+----------+--------------------+--------------------+\n",
      "|  1|    1|       0.0|[0.02977334719860...|[0.50744278700153...|\n",
      "|  2|    1|       0.0|[1.66792712215798...|[0.84129925700928...|\n",
      "|  3|    0|       0.0|[1.29405260032906...|[0.78483234391105...|\n",
      "| 14|    1|       0.0|[0.41038790516122...|[0.60118088758094...|\n",
      "| 27|    1|       0.0|[0.94290310254447...|[0.71968569742891...|\n",
      "| 28|    0|       0.0|[1.38563042360465...|[0.79989374883822...|\n",
      "| 32|    1|       0.0|[0.10114030814656...|[0.52526354487869...|\n",
      "| 35|    0|       0.0|[2.89481826802942...|[0.94758969017980...|\n",
      "| 42|    0|       0.0|[1.38364242490204...|[0.79957535261267...|\n",
      "| 45|    0|       0.0|[1.16339542950064...|[0.76194913451658...|\n",
      "+---+-----+----------+--------------------+--------------------+\n",
      "only showing top 10 rows\n",
      "\n",
      "Test set areaUnderROC: 0.7221607965934195\n"
     ]
    }
   ],
   "source": [
    "from pyspark.ml.classification import LogisticRegression\n",
    "from pyspark.ml.evaluation import BinaryClassificationEvaluator\n",
    "from pyspark.mllib.evaluation import BinaryClassificationMetrics\n",
    "\n",
    "lr = LogisticRegression(labelCol=\"label\", featuresCol=\"scaledFeatures\",maxIter=10)\n",
    "lrModel = lr.fit(trainingSet)\n",
    "trainingSummary = lrModel.summary\n",
    "train = lrModel.transform(trainingSet)\n",
    "\n",
    "# Obtain the receiver-operating characteristic as a dataframe and areaUnderROC.\n",
    "#trainingSummary.roc.show()\n",
    "\n",
    "roc = trainingSummary.roc.toPandas()\n",
    "plt.plot(roc['FPR'],roc['TPR'])\n",
    "plt.ylabel('False Positive Rate')\n",
    "plt.xlabel('True Positive Rate')\n",
    "plt.title('ROC Curve')\n",
    "plt.show()\n",
    "print('Training set areaUnderROC: ' + str(trainingSummary.areaUnderROC))\n",
    "\n",
    "pr = trainingSummary.pr.toPandas()\n",
    "plt.plot(pr['recall'],pr['precision'])\n",
    "plt.ylabel('Precision')\n",
    "plt.xlabel('Recall')\n",
    "plt.show()\n",
    "\n",
    "## Test\n",
    "predictions = lrModel.transform(testSet)\n",
    "predictions.select(\"ID\", \"label\", \"prediction\", \"rawPrediction\", \"probability\").show(10)\n",
    "evaluator=BinaryClassificationEvaluator(rawPredictionCol=\"rawPrediction\",labelCol=\"label\")\n",
    "print(\"Test set areaUnderROC: \" + str(evaluator.evaluate(predictions)))\n",
    "## error\n",
    "train_accuracy = evaluator2.evaluate(train)\n",
    "test_accuracy = evaluator2.evaluate(prediction)\n",
    "print(\"Train Error = %g\" % (1.0 - train_accuracy))\n",
    "print(\"Test Error = %g\" % (1.0 - test_accuracy))\n",
    "# Compute raw scores on the test set\n",
    "# predictionAndLabels = testSet.rdd.map(lambda lp: (float(lrModel.predict(lp.features)), lp.label))\n",
    "# predictionAndLabels = prediction.select(\"rawPrediction\", \"label\").rdd.map(lambda lp: (float(lp.rawPrediction[1]), lp.label[1]))\n",
    "\n",
    "# Instantiate metrics object\n",
    "# metrics = BinaryClassificationMetrics(predictionAndLabels)\n",
    "\n",
    "# Area under ROC curve\n",
    "# print(\"Area under ROC = %s\" % metrics.areaUnderROC)\n",
    "\n"
   ]
  },
  {
   "cell_type": "markdown",
   "metadata": {},
   "source": [
    "### Decision Tree"
   ]
  },
  {
   "cell_type": "code",
   "execution_count": 149,
   "metadata": {},
   "outputs": [
    {
     "name": "stdout",
     "output_type": "stream",
     "text": [
      "+---+-----+----------+--------------+--------------------+\n",
      "| ID|label|prediction| rawPrediction|         probability|\n",
      "+---+-----+----------+--------------+--------------------+\n",
      "|  1|    1|       0.0|     [2.0,0.0]|           [1.0,0.0]|\n",
      "|  2|    1|       0.0|  [181.0,85.0]|[0.68045112781954...|\n",
      "|  3|    0|       1.0|     [0.0,7.0]|           [0.0,1.0]|\n",
      "| 14|    1|       1.0|     [6.0,9.0]|           [0.4,0.6]|\n",
      "| 27|    1|       0.0|[1247.0,280.0]|[0.81663392272429...|\n",
      "| 28|    0|       0.0|[1247.0,280.0]|[0.81663392272429...|\n",
      "| 32|    1|       1.0| [179.0,346.0]|[0.34095238095238...|\n",
      "| 35|    0|       0.0|[7352.0,587.0]|[0.92606121677793...|\n",
      "| 42|    0|       0.0|[7352.0,587.0]|[0.92606121677793...|\n",
      "| 45|    0|       0.0|   [25.0,11.0]|[0.69444444444444...|\n",
      "+---+-----+----------+--------------+--------------------+\n",
      "only showing top 10 rows\n",
      "\n",
      "Test set areaUnderROC: 0.416566676827297\n",
      "Train set areaUnderROC: 0.4092145647179161\n",
      "Train Error = 0.15088\n",
      "Test Error = 0.196649\n"
     ]
    }
   ],
   "source": [
    "from pyspark.ml.classification import DecisionTreeClassifier\n",
    "from pyspark.ml.evaluation import MulticlassClassificationEvaluator\n",
    "\n",
    "dt = DecisionTreeClassifier(labelCol=\"label\", featuresCol=\"scaledFeatures\",maxDepth=10)\n",
    "dtModel = dt.fit(trainingSet)\n",
    "\n",
    "# Train\n",
    "dt_train = dtModel.transform(trainingSet)\n",
    "print(\"Train set areaUnderROC: \" + str(evaluator.evaluate(dt_train)))\n",
    "\n",
    "#Test\n",
    "dt_predictions = dtModel.transform(testSet)\n",
    "dt_predictions.select(\"ID\", \"label\", \"prediction\", \"rawPrediction\", \"probability\").show(10)\n",
    "evaluator=BinaryClassificationEvaluator(rawPredictionCol=\"rawPrediction\",labelCol=\"label\")\n",
    "print(\"Test set areaUnderROC: \" + str(evaluator.evaluate(dt_predictions)))\n",
    "\n",
    "evaluator2=MulticlassClassificationEvaluator(predictionCol=\"prediction\",labelCol=\"label\",metricName=\"accuracy\")\n",
    "\n",
    "dt_train_accuracy = evaluator2.evaluate(dt_train)\n",
    "dt_test_accuracy = evaluator2.evaluate(dt_predictions)\n",
    "print(\"Train Error = %g\" % (1.0 - dt_train_accuracy))\n",
    "print(\"Test Error = %g\" % (1.0 - dt_test_accuracy))\n",
    "\n"
   ]
  },
  {
   "cell_type": "markdown",
   "metadata": {},
   "source": [
    "### Random Forest"
   ]
  },
  {
   "cell_type": "code",
   "execution_count": 145,
   "metadata": {},
   "outputs": [
    {
     "name": "stdout",
     "output_type": "stream",
     "text": [
      "+---+-----+----------+--------------------+--------------------+\n",
      "| ID|label|prediction|       rawPrediction|         probability|\n",
      "+---+-----+----------+--------------------+--------------------+\n",
      "|  1|    1|       1.0|[8.28496592795246...|[0.41424829639762...|\n",
      "|  2|    1|       0.0|[13.0008310657223...|[0.65004155328611...|\n",
      "|  3|    0|       0.0|[16.8858112021864...|[0.84429056010932...|\n",
      "| 14|    1|       0.0|[11.6505612142336...|[0.58252806071168...|\n",
      "| 27|    1|       0.0|[16.1153031655657...|[0.80576515827828...|\n",
      "| 28|    0|       0.0|[16.8858112021864...|[0.84429056010932...|\n",
      "| 32|    1|       1.0|[8.83812020458821...|[0.44190601022941...|\n",
      "| 35|    0|       0.0|[17.5435664791017...|[0.87717832395508...|\n",
      "| 42|    0|       0.0|[17.4344127545927...|[0.87172063772963...|\n",
      "| 45|    0|       0.0|[15.4872996627536...|[0.77436498313768...|\n",
      "+---+-----+----------+--------------------+--------------------+\n",
      "only showing top 10 rows\n",
      "\n",
      "Test set areaUnderROC: 0.7569591080813958\n",
      "Train set areaUnderROC: 0.7749824721690101\n",
      "Train Error = 0.175177\n",
      "Test Error = 0.187284\n"
     ]
    }
   ],
   "source": [
    "from pyspark.ml.classification import RandomForestClassifier\n",
    "rf = RandomForestClassifier(labelCol=\"label\", featuresCol=\"scaledFeatures\")\n",
    "rfModel = rf.fit(trainingSet)\n",
    "# test\n",
    "rf_predictions = rfModel.transform(testSet)\n",
    "rf_predictions.select(\"ID\", \"label\", \"prediction\", \"rawPrediction\", \"probability\").show(10)\n",
    "evaluator=BinaryClassificationEvaluator(rawPredictionCol=\"rawPrediction\",labelCol=\"label\")\n",
    "print(\"Test set areaUnderROC: \" + str(evaluator.evaluate(rf_predictions, {evaluator.metricName: \"areaUnderROC\"})))\n",
    "\n",
    "rf_train = rfModel.transform(trainingSet)\n",
    "print(\"Train set areaUnderROC: \" + str(evaluator.evaluate(rf_train, {evaluator.metricName: \"areaUnderROC\"})))\n",
    "\n",
    "evaluator2=MulticlassClassificationEvaluator(predictionCol=\"prediction\",labelCol=\"label\",metricName=\"accuracy\")\n",
    "\n",
    "tf_train_accuracy = evaluator2.evaluate(rf_train)\n",
    "rf_test_accuracy = evaluator2.evaluate(rf_predictions)\n",
    "print(\"Train Error = %g\" % (1.0 - tf_train_accuracy))\n",
    "print(\"Test Error = %g\" % (1.0 - rf_test_accuracy))\n"
   ]
  }
 ],
 "metadata": {
  "kernelspec": {
   "display_name": "Python 3",
   "language": "python",
   "name": "python3"
  },
  "language_info": {
   "codemirror_mode": {
    "name": "ipython",
    "version": 3
   },
   "file_extension": ".py",
   "mimetype": "text/x-python",
   "name": "python",
   "nbconvert_exporter": "python",
   "pygments_lexer": "ipython3",
   "version": "3.7.3"
  }
 },
 "nbformat": 4,
 "nbformat_minor": 2
}

{
 "cells": [
  {
   "cell_type": "markdown",
   "metadata": {},
   "source": [
    "# Spark SQL Lab\n",
    "Spark SQL is a Spark module for structured data processing. It provides a programming abstraction called DataFrames and can also act as distributed SQL query engine. This lab presents how to work with Spark SQL.\n",
    "\n",
    "### Creating the DataFrame\n",
    "The `SparkSession` class is the entry point for the DataFrames API. This class exposes a `DataFrameReader` named `read` that can be used to create a DataFrame from existing data in supported formats. In our application, we create a `SparkSession` and then create a DataFrame from a JSON file. The dataset we are using in this lab is the results of the March 2016 Virginia Primary Elections for Presidency. The file, `loudoun_d_primary_results_2016.json`, located in `data/sql`, in which each line has the following structure:\n",
    "```\n",
    "{\n",
    "  \"district_type\": \"Congressional\", \n",
    "  \"last_name\": \"Clinton\", \n",
    "  \"candidate_ballot_order\": \"1\", \n",
    "  \"precinct_code\": \"###PROV\", \n",
    "  \"referendumId\": \"\", \n",
    "  \"total_votes\": \"9\", \n",
    "  \"candidate_name\": \"Hillary Clinton\", \n",
    "  \"locality_name\": \"LOUDOUN COUNTY\", \n",
    "  \"office_ballot_order\": \"1\", \n",
    "  \"party\": \"Democratic\", \n",
    "  \"election_name\": \"2016 March Democratic Presidential Primary\", \n",
    "  \"election_date\": \"2016-03-01 00:00:00.000\", \n",
    "  \"precinct_name\": \"## Provisional\", \n",
    "  \"null\": [\"\"], \n",
    "  \"locality_code\": \"107\",\n",
    "  \"negative_votes\": \"\",\n",
    "  \"office_name\": \"President\",\n",
    "  \"candidateId\": \"124209128\",\n",
    "  \"DESCRIPTION\": \"10th District\",\n",
    "  \"districtId\": \"1085224094\",\n",
    "  \"referendum_title\": \"\",\n",
    "  \"officeId\": \"933838092\",\n",
    "  \"in_precinct\": \"## Provisional\",\n",
    "  \"election_type\": \"Primary\"\n",
    "}\n",
    "```"
   ]
  },
  {
   "cell_type": "code",
   "execution_count": 2,
   "metadata": {},
   "outputs": [
    {
     "data": {
      "text/plain": [
       "import org.apache.spark.sql.{DataFrame, Dataset, Row, SparkSession}\n",
       "import org.apache.spark.sql.functions._\n",
       "spark: org.apache.spark.sql.SparkSession = org.apache.spark.sql.SparkSession@74be8946\n",
       "import spark.implicits._\n",
       "fileName: String = data/sql/loudoun_d_primary_results_2016.json\n",
       "df: org.apache.spark.sql.DataFrame = [DESCRIPTION: string, candidateId: string ... 22 more fields]\n"
      ]
     },
     "execution_count": 2,
     "metadata": {},
     "output_type": "execute_result"
    }
   ],
   "source": [
    "import org.apache.spark.sql.{DataFrame, Dataset, Row, SparkSession}\n",
    "import org.apache.spark.sql.functions._\n",
    "\n",
    "val spark = SparkSession.builder.master(\"local[*]\").appName(\"SparkSQL\").getOrCreate()\n",
    "import spark.implicits._\n",
    "\n",
    "// Create a DataFrame based on the JSON results.\n",
    "val fileName = \"data/sql/loudoun_d_primary_results_2016.json\"\n",
    "val df = spark.read.json(fileName)    "
   ]
  },
  {
   "cell_type": "markdown",
   "metadata": {},
   "source": [
    "Now, print the inferred schema of the data, and the first 2 lines of the file."
   ]
  },
  {
   "cell_type": "code",
   "execution_count": 4,
   "metadata": {},
   "outputs": [
    {
     "name": "stdout",
     "output_type": "stream",
     "text": [
      "root\n",
      " |-- DESCRIPTION: string (nullable = true)\n",
      " |-- candidateId: string (nullable = true)\n",
      " |-- candidate_ballot_order: string (nullable = true)\n",
      " |-- candidate_name: string (nullable = true)\n",
      " |-- districtId: string (nullable = true)\n",
      " |-- district_type: string (nullable = true)\n",
      " |-- election_date: string (nullable = true)\n",
      " |-- election_name: string (nullable = true)\n",
      " |-- election_type: string (nullable = true)\n",
      " |-- in_precinct: string (nullable = true)\n",
      " |-- last_name: string (nullable = true)\n",
      " |-- locality_code: string (nullable = true)\n",
      " |-- locality_name: string (nullable = true)\n",
      " |-- negative_votes: string (nullable = true)\n",
      " |-- null: array (nullable = true)\n",
      " |    |-- element: string (containsNull = true)\n",
      " |-- officeId: string (nullable = true)\n",
      " |-- office_ballot_order: string (nullable = true)\n",
      " |-- office_name: string (nullable = true)\n",
      " |-- party: string (nullable = true)\n",
      " |-- precinct_code: string (nullable = true)\n",
      " |-- precinct_name: string (nullable = true)\n",
      " |-- referendumId: string (nullable = true)\n",
      " |-- referendum_title: string (nullable = true)\n",
      " |-- total_votes: string (nullable = true)\n",
      "\n",
      "+-------------+-----------+----------------------+------------------+----------+-------------+--------------------+--------------------+-------------+--------------+---------+-------------+--------------+--------------+----+---------+-------------------+-----------+----------+-------------+--------------+------------+----------------+-----------+\n",
      "|  DESCRIPTION|candidateId|candidate_ballot_order|    candidate_name|districtId|district_type|       election_date|       election_name|election_type|   in_precinct|last_name|locality_code| locality_name|negative_votes|null| officeId|office_ballot_order|office_name|     party|precinct_code| precinct_name|referendumId|referendum_title|total_votes|\n",
      "+-------------+-----------+----------------------+------------------+----------+-------------+--------------------+--------------------+-------------+--------------+---------+-------------+--------------+--------------+----+---------+-------------------+-----------+----------+-------------+--------------+------------+----------------+-----------+\n",
      "|10th District|  124209128|                     1|   Hillary Clinton|1085224094|Congressional|2016-03-01 00:00:...|2016 March Democr...|      Primary|## Provisional|  Clinton|          107|LOUDOUN COUNTY|              |  []|933838092|                  1|  President|Democratic|      ###PROV|## Provisional|            |                |          9|\n",
      "|10th District| 1999936198|                     2|Martin J. O'Malley|1085224094|Congressional|2016-03-01 00:00:...|2016 March Democr...|      Primary|## Provisional| O'Malley|          107|LOUDOUN COUNTY|              |  []|933838092|                  1|  President|Democratic|      ###PROV|## Provisional|            |                |          0|\n",
      "+-------------+-----------+----------------------+------------------+----------+-------------+--------------------+--------------------+-------------+--------------+---------+-------------+--------------+--------------+----+---------+-------------------+-----------+----------+-------------+--------------+------------+----------------+-----------+\n",
      "only showing top 2 rows\n",
      "\n"
     ]
    }
   ],
   "source": [
    "// print the dataframe schema\n",
    "df.printSchema()\n",
    "\n",
    "// print the first two rows\n",
    "df.show(2)"
   ]
  },
  {
   "cell_type": "markdown",
   "metadata": {},
   "source": [
    "### Transforming and Querying the DataFrame\n",
    "Let's explore the data to determine who the candidates on the ballot were, based on the unique names in the `candidate_name` field. You should receive the following result:\n",
    "```\n",
    "+------------------+\n",
    "|    candidate_name|\n",
    "+------------------+\n",
    "|    Bernie Sanders|\n",
    "|   Hillary Clinton|\n",
    "|Martin J. O'Malley|\n",
    "+------------------+\n",
    "```"
   ]
  },
  {
   "cell_type": "code",
   "execution_count": 5,
   "metadata": {},
   "outputs": [
    {
     "name": "stdout",
     "output_type": "stream",
     "text": [
      "+------------------+\n",
      "|    candidate_name|\n",
      "+------------------+\n",
      "|    Bernie Sanders|\n",
      "|   Hillary Clinton|\n",
      "|Martin J. O'Malley|\n",
      "+------------------+\n",
      "\n"
     ]
    }
   ],
   "source": [
    "// get all distinct candidate names from the DataFrame\n",
    "df.select(\"candidate_name\").distinct.show()"
   ]
  },
  {
   "cell_type": "markdown",
   "metadata": {},
   "source": [
    "Next, let's see what order the candidates were printed on the ballots, using the `candidate_ballot_order` field. In Virginia, every county uses the same ballot, so we only need one sampling and can safely discard the duplicates. Since we are going to reuse the following DataFrame, use the `cache()` method to cache it. Here is the result:\n",
    "```\n",
    "+------------------+----------------------+\n",
    "|    candidate_name|candidate_ballot_order|\n",
    "+------------------+----------------------+\n",
    "|   Hillary Clinton|                     1|\n",
    "|Martin J. O'Malley|                     2|\n",
    "|    Bernie Sanders|                     3|\n",
    "+------------------+----------------------+\n",
    "```"
   ]
  },
  {
   "cell_type": "code",
   "execution_count": 6,
   "metadata": {},
   "outputs": [
    {
     "name": "stdout",
     "output_type": "stream",
     "text": [
      "+------------------+----------------------+\n",
      "|    candidate_name|candidate_ballot_order|\n",
      "+------------------+----------------------+\n",
      "|   Hillary Clinton|                     1|\n",
      "|Martin J. O'Malley|                     2|\n",
      "|    Bernie Sanders|                     3|\n",
      "+------------------+----------------------+\n",
      "\n"
     ]
    },
    {
     "data": {
      "text/plain": [
       "orderDF: org.apache.spark.sql.Dataset[org.apache.spark.sql.Row] = [candidate_name: string, candidate_ballot_order: string]\n"
      ]
     },
     "execution_count": 6,
     "metadata": {},
     "output_type": "execute_result"
    }
   ],
   "source": [
    "// get the ballot order and discard the many duplicates (all VA ballots are the same)\n",
    "val orderDF = df\n",
    "    .select(\"candidate_name\", \"candidate_ballot_order\")\n",
    "    .distinct\n",
    "    .orderBy(\"candidate_ballot_order\")\n",
    "    .cache()\n",
    "orderDF.show()"
   ]
  },
  {
   "cell_type": "markdown",
   "metadata": {},
   "source": [
    "The above query that showed the ballot order needs to be changed to show descriptive English text instead of numbers. We have a reference lookup table available in the file called `friendly_orders.json` in `data/sql` that we would like to use. This file has the following structure:\n",
    "```\n",
    "{\"candidate_ballot_order\": \"1\", \"friendly_name\": \"First on Ballot\"}\n",
    "{\"candidate_ballot_order\": \"2\", \"friendly_name\": \"In Middle of Ballot\"}\n",
    "{\"candidate_ballot_order\": \"3\", \"friendly_name\": \"Last on Ballot\"}\n",
    "```\n",
    "\n",
    "We create a DataFrame of this reference data and then use it to alter the output of our ballot order query, and show the `friendly_name` instead of numbers. You should get a result as below:\n",
    "```\n",
    "+------------------+-------------------+\n",
    "|    candidate_name|      friendly_name|\n",
    "+------------------+-------------------+\n",
    "|   Hillary Clinton|    First on Ballot|\n",
    "|Martin J. O'Malley|In Middle of Ballot|\n",
    "|    Bernie Sanders|     Last on Ballot|\n",
    "+------------------+-------------------+\n",
    "```"
   ]
  },
  {
   "cell_type": "code",
   "execution_count": 7,
   "metadata": {},
   "outputs": [
    {
     "name": "stdout",
     "output_type": "stream",
     "text": [
      "+------------------+-------------------+\n",
      "|    candidate_name|      friendly_name|\n",
      "+------------------+-------------------+\n",
      "|   Hillary Clinton|    First on Ballot|\n",
      "|Martin J. O'Malley|In Middle of Ballot|\n",
      "|    Bernie Sanders|     Last on Ballot|\n",
      "+------------------+-------------------+\n",
      "\n"
     ]
    },
    {
     "data": {
      "text/plain": [
       "orderFileName: String = data/sql/friendly_orders.json\n",
       "friendlyDF: org.apache.spark.sql.DataFrame = [candidate_ballot_order: string, friendly_name: string]\n",
       "joinedDF: org.apache.spark.sql.DataFrame = [candidate_name: string, candidate_ballot_order: string ... 2 more fields]\n"
      ]
     },
     "execution_count": 7,
     "metadata": {},
     "output_type": "execute_result"
    }
   ],
   "source": [
    "val orderFileName = \"data/sql/friendly_orders.json\"\n",
    "val friendlyDF = spark.read.json(orderFileName)\n",
    "\n",
    "// join the tables so the results show descriptive text\n",
    "val joinedDF = orderDF\n",
    "    .join(friendlyDF, orderDF.col(\"candidate_ballot_order\") === friendlyDF.col(\"candidate_ballot_order\"))\n",
    "\n",
    "// hide the numeric column in the output.\n",
    "joinedDF.select(\"candidate_name\", \"friendly_name\").show()"
   ]
  },
  {
   "cell_type": "markdown",
   "metadata": {},
   "source": [
    "Next, let's try an aggregate query. To count the total votes, we must cast the `total_votes` column to numeric data and then take the sum of every cell. Let's assign an alias to the column after the cast, using the `alias` method, to increase readability. Here is the result:\n",
    "```\n",
    "+--------------------+\n",
    "|sum(total_votes_int)|\n",
    "+--------------------+\n",
    "|               36149|\n",
    "+--------------------+\n",
    "```"
   ]
  },
  {
   "cell_type": "code",
   "execution_count": 8,
   "metadata": {},
   "outputs": [
    {
     "name": "stdout",
     "output_type": "stream",
     "text": [
      "+--------------------+\n",
      "|sum(total_votes_int)|\n",
      "+--------------------+\n",
      "|               36149|\n",
      "+--------------------+\n",
      "\n"
     ]
    },
    {
     "data": {
      "text/plain": [
       "votesColumn: org.apache.spark.sql.Column = CAST(total_votes AS INT)\n"
      ]
     },
     "execution_count": 8,
     "metadata": {},
     "output_type": "execute_result"
    }
   ],
   "source": [
    "// orginal data is string-based, so create an integer version of it and call it total_votes_int\n",
    "val votesColumn = df(\"total_votes\").cast(\"int\")\n",
    "\n",
    "// get the integer-based votes column and sum all values together\n",
    "df.agg(sum(votesColumn).alias(\"sum(total_votes_int)\")).show()"
   ]
  },
  {
   "cell_type": "markdown",
   "metadata": {},
   "source": [
    "Grouping this vote count by `candidate_name` employs a similar pattern. Let's use `orderBy()` to sort the results, and show how many votes each candidate got, as below:\n",
    "```\n",
    "+------------------+----------+\n",
    "|    candidate_name|sum_column|\n",
    "+------------------+----------+\n",
    "|   Hillary Clinton|     21180|\n",
    "|    Bernie Sanders|     14730|\n",
    "|Martin J. O'Malley|       239|\n",
    "+------------------+----------+\n",
    "```"
   ]
  },
  {
   "cell_type": "code",
   "execution_count": 9,
   "metadata": {},
   "outputs": [
    {
     "name": "stdout",
     "output_type": "stream",
     "text": [
      "+------------------+----------+\n",
      "|    candidate_name|sum_column|\n",
      "+------------------+----------+\n",
      "|   Hillary Clinton|     21180|\n",
      "|    Bernie Sanders|     14730|\n",
      "|Martin J. O'Malley|       239|\n",
      "+------------------+----------+\n",
      "\n"
     ]
    },
    {
     "data": {
      "text/plain": [
       "candidateDF: org.apache.spark.sql.DataFrame = [candidate_name: string, total_votes: string]\n",
       "groupedDF: org.apache.spark.sql.DataFrame = [candidate_name: string, sum_column: bigint]\n",
       "summaryDF: org.apache.spark.sql.Dataset[org.apache.spark.sql.Row] = [candidate_name: string, sum_column: bigint]\n"
      ]
     },
     "execution_count": 9,
     "metadata": {},
     "output_type": "execute_result"
    }
   ],
   "source": [
    "// get just the candidate names and votes.\n",
    "val candidateDF = df.select(\"candidate_name\", \"total_votes\")\n",
    "\n",
    "// group by candidate name and sum votes, and assign an alias \"sum_column\" to the sum so we can order\n",
    "// on that column.\n",
    "val groupedDF = candidateDF\n",
    "    .groupBy(\"candidate_name\")\n",
    "    .agg(sum($\"total_votes\".cast(\"int\")).alias(\"sum_column\"))\n",
    "val summaryDF = groupedDF.orderBy($\"sum_column\".desc).cache()\n",
    "summaryDF.show()"
   ]
  },
  {
   "cell_type": "markdown",
   "metadata": {},
   "source": [
    "For our final exploration, we see which physical precincts (polling station) had the highest physical turnout. Virginia designates special theoretical precincts for absentee and provisional ballots, which can skew our results. So, we want to omit these precincts from our query. A glance at the data shows that the theoretical precincts have non-integer values for `precinct_code`. We can apply cast to the `precinct_code` column and then filter out the rows containing non-integer codes. All physical precincts have a numeric code. Provisional/absentee precincts start with \"##\". We expect to see the result as below:\n",
    "```\n",
    "+-------------+----------+\n",
    "|precinct_name|sum_column|\n",
    "+-------------+----------+\n",
    "| 314 - LEGACY|       652|\n",
    "+-------------+----------+\n",
    "```"
   ]
  },
  {
   "cell_type": "code",
   "execution_count": 10,
   "metadata": {},
   "outputs": [
    {
     "name": "stdout",
     "output_type": "stream",
     "text": [
      "+-------------+----------+\n",
      "|precinct_name|sum_column|\n",
      "+-------------+----------+\n",
      "| 314 - LEGACY|       652|\n",
      "+-------------+----------+\n",
      "only showing top 1 row\n",
      "\n"
     ]
    },
    {
     "data": {
      "text/plain": [
       "precinctColumn: org.apache.spark.sql.Column = CAST(precinct_code AS INT) AS `precinct_code_int`\n",
       "pollingDF: org.apache.spark.sql.DataFrame = [precinct_name: string, total_votes: int]\n",
       "groupedPollDF: org.apache.spark.sql.DataFrame = [precinct_name: string, sum_column: bigint]\n"
      ]
     },
     "execution_count": 10,
     "metadata": {},
     "output_type": "execute_result"
    }
   ],
   "source": [
    "// Spark's cast function converts these to \"null\".\n",
    "val precinctColumn = df(\"precinct_code\").cast(\"int\").alias(\"precinct_code_int\")\n",
    "\n",
    "// get the precinct name, integer-based code, and integer-based votes, then filter on non-null codes.\n",
    "val pollingDF = df\n",
    "    .filter(precinctColumn.isNotNull)\n",
    "    .select($\"precinct_name\", df(\"total_votes\").cast(\"int\"))\n",
    "\n",
    "// group by precinct name and sum votes, and assign an alias \"sum_column\" to the sum so we can order on that\n",
    "// column, and then, show the max row.\n",
    "val groupedPollDF = pollingDF\n",
    "    .groupBy(\"precinct_name\")\n",
    "    .agg(sum(\"total_votes\").alias(\"sum_column\"))\n",
    "\n",
    "groupedPollDF.orderBy($\"sum_column\".desc).show(1)"
   ]
  },
  {
   "cell_type": "markdown",
   "metadata": {},
   "source": [
    "### Saving the DataFrame\n",
    "The `DataFrame` class  exposes a `DataFrameWriter` named write that can be used to save a DataFrame. There are four available write modes which can be specified, with error being the default:\n",
    "* `append`: add this data to the end of any data already at the target location.\n",
    "* `overwrite`: erase any existing data at the target location and replace with this data.\n",
    "* `ignore`: silently skip this command if any data already exists at the target location.\n",
    "* `error`: throw an exception if any data already exists at the target location.\n",
    "\n",
    "Here, we save one of our generated DataFrames as JSON data in the folder `target/json` with the `overwrite` mode. If you look in this directory after running the code, you will see a separate JSON file for each row of the DataFrame, along with a `_SUCCESS` indicator file."
   ]
  },
  {
   "cell_type": "code",
   "execution_count": 12,
   "metadata": {},
   "outputs": [
    {
     "data": {
      "text/plain": [
       "import org.apache.spark.sql.SaveMode\n"
      ]
     },
     "execution_count": 12,
     "metadata": {},
     "output_type": "execute_result"
    }
   ],
   "source": [
    "import org.apache.spark.sql.SaveMode\n",
    "summaryDF.write.mode(SaveMode.Overwrite).json(\"target/json\")"
   ]
  }
 ],
 "metadata": {
  "kernelspec": {
   "display_name": "spylon-kernel",
   "language": "scala",
   "name": "spylon-kernel"
  },
  "language_info": {
   "codemirror_mode": "text/x-scala",
   "file_extension": ".scala",
   "help_links": [
    {
     "text": "MetaKernel Magics",
     "url": "https://metakernel.readthedocs.io/en/latest/source/README.html"
    }
   ],
   "mimetype": "text/x-scala",
   "name": "scala",
   "pygments_lexer": "scala",
   "version": "0.4.1"
  }
 },
 "nbformat": 4,
 "nbformat_minor": 2
}
